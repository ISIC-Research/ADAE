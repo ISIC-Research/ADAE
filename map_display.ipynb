{
 "cells": [
  {
   "cell_type": "code",
   "execution_count": null,
   "metadata": {},
   "outputs": [],
   "source": [
    "# Image name\n",
    "#imname = 'ISIC_2454082' # easy nevus\n",
    "#imname = 'ISIC_0495948' # hard nevus\n",
    "imname = 'ISIC_7889097' # easy melanoma\n",
    "#imname = 'ISIC_7949783' # hard melanoma\n",
    "#imname = 'ISIC_6736963' # single case\n",
    "#imname = '20161227134727875'\n",
    "#imname = '20170328153241782'\n",
    "#imname = '20201027154530702'\n",
    "imname = '1604950323_3962119'\n",
    "\n",
    "# display type\n",
    "distype = 'logodds'\n",
    "\n",
    "# classes\n",
    "target = 'melanoma'\n",
    "logodds = 'melanoma~other'\n",
    "\n",
    "# figure size\n",
    "figsize = (12,12)"
   ]
  },
  {
   "cell_type": "code",
   "execution_count": null,
   "metadata": {},
   "outputs": [],
   "source": [
    "# imports\n",
    "import glob\n",
    "\n",
    "from isicarchive import imfunc\n",
    "import matplotlib.pyplot as plt\n",
    "import numpy\n",
    "\n",
    "def scaledimshow(im, ax=None):\n",
    "    if ax is None:\n",
    "        f = plt.figure(figsize=figsize)\n",
    "    im = im.copy()\n",
    "    am = numpy.max(numpy.abs(im))\n",
    "    if numpy.any(im < 0.0):\n",
    "        print([-am,am])\n",
    "        im[0,0] = -am\n",
    "    else:\n",
    "        print([0.0,am])\n",
    "    im[-1,-1] = am\n",
    "    return plt.imshow(im)"
   ]
  },
  {
   "cell_type": "code",
   "execution_count": null,
   "metadata": {},
   "outputs": [],
   "source": [
    "# load maps for one image and type/class\n",
    "pstd = None\n",
    "if distype[0] == 'h':\n",
    "    try:\n",
    "        heatmaps = numpy.load(glob.glob('heatmaps' + '/' + imname + '/*' + target + '_*mean.npz')[0])\n",
    "        pmean = heatmaps['arr_0'].copy()\n",
    "        pstd = heatmaps['arr_1'].copy()\n",
    "    except:\n",
    "        print(f'No heatmap for {imname}')\n",
    "if distype[0] == 'l':\n",
    "    try:\n",
    "        lomaps = numpy.load(glob.glob('logodds' + '/' + imname + '/*' + logodds + '_*mean.npz')[0])\n",
    "        pmean = lomaps['arr_0'].copy()\n",
    "        pstd = lomaps['arr_1'].copy()\n",
    "    except:\n",
    "        print(f'No logodds map for {imname}')\n",
    "if distype[0] == 'p':\n",
    "    try:\n",
    "        probmaps = numpy.load(glob.glob('probmaps' + '/' + imname + '/*' + target + '_*mean.npz')[0])\n",
    "        pmean = probmaps['arr_0'].copy()\n",
    "        pstd = probmaps['arr_1'].copy()\n",
    "    except:\n",
    "        print(f'No probmap for {imname}')\n",
    "if not pstd is None:\n",
    "    pmm = numpy.max(numpy.abs(pmean))\n",
    "    pmean[0,0] = -pmm\n",
    "    pmean[-1,-1] = pmm"
   ]
  },
  {
   "cell_type": "code",
   "execution_count": null,
   "metadata": {
    "scrolled": false
   },
   "outputs": [],
   "source": [
    "# show original image\n",
    "im = imfunc.read_image('data/jpeg-melanoma-1024x1024/test/' + imname + '.jpg')\n",
    "plt.figure(figsize=figsize)\n",
    "ax11 = plt.subplot(1, 2, 1)\n",
    "pm = plt.imshow(im)\n",
    "\n",
    "# show mean, median\n",
    "print('mean')\n",
    "ax12 = plt.subplot(1, 2, 2)\n",
    "pm = scaledimshow(pmean * (pstd < 1) * (pmean > 0.1), ax12)"
   ]
  },
  {
   "cell_type": "code",
   "execution_count": null,
   "metadata": {},
   "outputs": [],
   "source": [
    "# mix image\n",
    "lut = [[32,32,255],[32,255,128]]\n",
    "mim = imfunc.image_overlay(im, pmean+1.5, lut, max_thresh=numpy.max(pmean+2.5), alpha=-1.0)\n",
    "plt.figure(figsize=(16,8))\n",
    "ax11 = plt.subplot(1,2,1)\n",
    "pm = plt.imshow(im)\n",
    "ax12 = plt.subplot(1,2,2)\n",
    "pm = plt.imshow(mim)"
   ]
  }
 ],
 "metadata": {
  "kernelspec": {
   "display_name": "Python 3",
   "language": "python",
   "name": "python3"
  },
  "language_info": {
   "codemirror_mode": {
    "name": "ipython",
    "version": 3
   },
   "file_extension": ".py",
   "mimetype": "text/x-python",
   "name": "python",
   "nbconvert_exporter": "python",
   "pygments_lexer": "ipython3",
   "version": "3.7.4"
  }
 },
 "nbformat": 4,
 "nbformat_minor": 2
}
